{
 "cells": [
  {
   "cell_type": "code",
   "execution_count": 1,
   "metadata": {},
   "outputs": [],
   "source": [
    "import os\n",
    "import pandas as pd"
   ]
  },
  {
   "cell_type": "code",
   "execution_count": 2,
   "metadata": {},
   "outputs": [],
   "source": [
    "fifteen_path = os.path.join('data','csv','happiness_2015.csv')\n",
    "sixteen_path = os.path.join('data','csv','happiness_2016.csv')\n",
    "seventeen_path = os.path.join('data','csv','happiness_2017.csv')\n",
    "country_path = os.path.join('Data','csv','countries.csv')\n",
    "country_location_path = os.path.join('Data','csv','countries_location.csv')"
   ]
  },
  {
   "cell_type": "code",
   "execution_count": 4,
   "metadata": {},
   "outputs": [],
   "source": [
    "happiness_15_df = pd.read_csv(fifteen_path)\n",
    "happiness_16_df = pd.read_csv(sixteen_path)\n",
    "happiness_17_df = pd.read_csv(seventeen_path)\n",
    "country_df = pd.read_csv(country_path)\n",
    "country_location_df = pd.read_csv(country_location_path)"
   ]
  },
  {
   "cell_type": "code",
   "execution_count": 6,
   "metadata": {},
   "outputs": [
    {
     "data": {
      "text/html": [
       "<div>\n",
       "<style scoped>\n",
       "    .dataframe tbody tr th:only-of-type {\n",
       "        vertical-align: middle;\n",
       "    }\n",
       "\n",
       "    .dataframe tbody tr th {\n",
       "        vertical-align: top;\n",
       "    }\n",
       "\n",
       "    .dataframe thead th {\n",
       "        text-align: right;\n",
       "    }\n",
       "</style>\n",
       "<table border=\"1\" class=\"dataframe\">\n",
       "  <thead>\n",
       "    <tr style=\"text-align: right;\">\n",
       "      <th></th>\n",
       "      <th>Unnamed: 0</th>\n",
       "      <th>Unnamed: 0.1</th>\n",
       "      <th>country</th>\n",
       "      <th>country_id</th>\n",
       "      <th>Lat</th>\n",
       "      <th>Lng</th>\n",
       "    </tr>\n",
       "  </thead>\n",
       "  <tbody>\n",
       "    <tr>\n",
       "      <th>0</th>\n",
       "      <td>0</td>\n",
       "      <td>0</td>\n",
       "      <td>Afghanistan</td>\n",
       "      <td>1</td>\n",
       "      <td>33.939110</td>\n",
       "      <td>67.709953</td>\n",
       "    </tr>\n",
       "    <tr>\n",
       "      <th>1</th>\n",
       "      <td>1</td>\n",
       "      <td>1</td>\n",
       "      <td>Albania</td>\n",
       "      <td>2</td>\n",
       "      <td>41.153332</td>\n",
       "      <td>20.168331</td>\n",
       "    </tr>\n",
       "    <tr>\n",
       "      <th>2</th>\n",
       "      <td>2</td>\n",
       "      <td>2</td>\n",
       "      <td>Algeria</td>\n",
       "      <td>3</td>\n",
       "      <td>28.033886</td>\n",
       "      <td>1.659626</td>\n",
       "    </tr>\n",
       "    <tr>\n",
       "      <th>3</th>\n",
       "      <td>3</td>\n",
       "      <td>3</td>\n",
       "      <td>Angola</td>\n",
       "      <td>4</td>\n",
       "      <td>-11.202692</td>\n",
       "      <td>17.873887</td>\n",
       "    </tr>\n",
       "    <tr>\n",
       "      <th>4</th>\n",
       "      <td>4</td>\n",
       "      <td>4</td>\n",
       "      <td>Argentina</td>\n",
       "      <td>5</td>\n",
       "      <td>-38.416097</td>\n",
       "      <td>-63.616672</td>\n",
       "    </tr>\n",
       "  </tbody>\n",
       "</table>\n",
       "</div>"
      ],
      "text/plain": [
       "   Unnamed: 0  Unnamed: 0.1      country  country_id        Lat        Lng\n",
       "0           0             0  Afghanistan           1  33.939110  67.709953\n",
       "1           1             1      Albania           2  41.153332  20.168331\n",
       "2           2             2      Algeria           3  28.033886   1.659626\n",
       "3           3             3       Angola           4 -11.202692  17.873887\n",
       "4           4             4    Argentina           5 -38.416097 -63.616672"
      ]
     },
     "execution_count": 6,
     "metadata": {},
     "output_type": "execute_result"
    }
   ],
   "source": [
    "country_location_df.head()"
   ]
  },
  {
   "cell_type": "code",
   "execution_count": 7,
   "metadata": {},
   "outputs": [],
   "source": [
    "country_lat_dict = {}\n",
    "country_long_dict = {}\n",
    "for index,row in country_location_df.iterrows():\n",
    "    country_name = row['country']\n",
    "    country_lat = row['Lat']\n",
    "    country_long = row['Lng']\n",
    "    country_lat_dict[country_name] = country_lat\n",
    "    country_long_dict[country_name] = country_long"
   ]
  },
  {
   "cell_type": "code",
   "execution_count": 10,
   "metadata": {},
   "outputs": [],
   "source": [
    "happiness_15_df['Latitude'] =\"\"\n",
    "happiness_16_df['Latitude'] =\"\"\n",
    "happiness_17_df['Latitude'] =\"\"\n",
    "country_df['Latitude'] =\"\"\n",
    "happiness_15_df['Longitude'] =\"\"\n",
    "happiness_16_df['Longitude'] =\"\"\n",
    "happiness_17_df['Longitude'] =\"\"\n",
    "country_df['Longitude'] =\"\""
   ]
  },
  {
   "cell_type": "code",
   "execution_count": 17,
   "metadata": {},
   "outputs": [],
   "source": [
    "def add_lat_long(df):\n",
    "    for index,row in df.iterrows() :\n",
    "        try:\n",
    "            df.loc[index,'Latitude'] = country_lat_dict.get(row['Country'])\n",
    "            df.loc[index,'Longitude'] = country_long_dict.get(row['Country'])\n",
    "        except:\n",
    "            continue"
   ]
  },
  {
   "cell_type": "code",
   "execution_count": 18,
   "metadata": {},
   "outputs": [],
   "source": [
    "add_lat_long(happiness_15_df)\n",
    "add_lat_long(happiness_16_df)\n",
    "add_lat_long(happiness_17_df)\n",
    "add_lat_long(country_df)"
   ]
  },
  {
   "cell_type": "code",
   "execution_count": 19,
   "metadata": {},
   "outputs": [],
   "source": [
    "happiness_15_df.to_csv(os.path.join('data','csv','happiness_2015.csv'))\n",
    "happiness_16_df.to_csv(os.path.join('data','csv','happiness_2016.csv'))\n",
    "happiness_17_df.to_csv(os.path.join('data','csv','happiness_2017.csv'))\n",
    "country_df.to_csv(os.path.join('data','csv','countries.csv'))"
   ]
  },
  {
   "cell_type": "code",
   "execution_count": null,
   "metadata": {},
   "outputs": [],
   "source": []
  },
  {
   "cell_type": "code",
   "execution_count": null,
   "metadata": {},
   "outputs": [],
   "source": []
  },
  {
   "cell_type": "code",
   "execution_count": null,
   "metadata": {},
   "outputs": [],
   "source": []
  },
  {
   "cell_type": "code",
   "execution_count": null,
   "metadata": {},
   "outputs": [],
   "source": []
  },
  {
   "cell_type": "code",
   "execution_count": null,
   "metadata": {},
   "outputs": [],
   "source": []
  },
  {
   "cell_type": "code",
   "execution_count": null,
   "metadata": {},
   "outputs": [],
   "source": []
  },
  {
   "cell_type": "code",
   "execution_count": null,
   "metadata": {},
   "outputs": [],
   "source": []
  },
  {
   "cell_type": "code",
   "execution_count": null,
   "metadata": {},
   "outputs": [],
   "source": []
  },
  {
   "cell_type": "code",
   "execution_count": null,
   "metadata": {},
   "outputs": [],
   "source": []
  },
  {
   "cell_type": "code",
   "execution_count": null,
   "metadata": {},
   "outputs": [],
   "source": []
  },
  {
   "cell_type": "code",
   "execution_count": null,
   "metadata": {},
   "outputs": [],
   "source": []
  }
 ],
 "metadata": {
  "kernelspec": {
   "display_name": "Python [conda env:PythonData]",
   "language": "python",
   "name": "conda-env-PythonData-py"
  },
  "language_info": {
   "codemirror_mode": {
    "name": "ipython",
    "version": 3
   },
   "file_extension": ".py",
   "mimetype": "text/x-python",
   "name": "python",
   "nbconvert_exporter": "python",
   "pygments_lexer": "ipython3",
   "version": "3.6.5"
  }
 },
 "nbformat": 4,
 "nbformat_minor": 2
}
